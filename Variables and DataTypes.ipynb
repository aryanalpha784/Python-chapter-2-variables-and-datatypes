{
 "cells": [
  {
   "cell_type": "markdown",
   "id": "54f49edd-8d95-4f2d-87c8-9e301a3a2e4f",
   "metadata": {},
   "source": [
    "# 1.Write a Pyhton program to add two numbers."
   ]
  },
  {
   "cell_type": "code",
   "execution_count": 3,
   "id": "ea24def5-6dcd-4cdb-8ae5-eee1e374a894",
   "metadata": {},
   "outputs": [
    {
     "name": "stdout",
     "output_type": "stream",
     "text": [
      "The sum of a and b is:  57\n"
     ]
    }
   ],
   "source": [
    "a = 23\n",
    "b = 34\n",
    "print(\"The sum of a and b is: \",a+b)"
   ]
  },
  {
   "cell_type": "markdown",
   "id": "e5cdda41-df78-4125-b6b8-41a2b89af8b6",
   "metadata": {},
   "source": [
    "# 2.Write a Python program to find remainder when a number is divided by 2."
   ]
  },
  {
   "cell_type": "code",
   "execution_count": 6,
   "id": "e8a2914d-c86e-4a46-9815-6d532c82c2e8",
   "metadata": {},
   "outputs": [
    {
     "name": "stdout",
     "output_type": "stream",
     "text": [
      "The remainder of 5 and 25 is:  5\n"
     ]
    }
   ],
   "source": [
    "a = 5\n",
    "b = 25\n",
    "print(\"The remainder of 5 and 25 is: \",a%b)"
   ]
  },
  {
   "cell_type": "markdown",
   "id": "a0ba8941-306d-4e8a-864d-3912cadb4312",
   "metadata": {},
   "source": [
    "# 3.Check the type of variable assigned using input() function."
   ]
  },
  {
   "cell_type": "code",
   "execution_count": 9,
   "id": "93458df1-e866-413c-bf0a-516370fd85b9",
   "metadata": {},
   "outputs": [
    {
     "name": "stdin",
     "output_type": "stream",
     "text": [
      "Enter your name:  22\n"
     ]
    }
   ],
   "source": [
    "a = input(\"Enter your name: \")"
   ]
  },
  {
   "cell_type": "code",
   "execution_count": 11,
   "id": "b13d3f14-baf1-43e0-8381-a49d62894bb9",
   "metadata": {},
   "outputs": [
    {
     "data": {
      "text/plain": [
       "str"
      ]
     },
     "execution_count": 11,
     "metadata": {},
     "output_type": "execute_result"
    }
   ],
   "source": [
    "type(a)"
   ]
  },
  {
   "cell_type": "markdown",
   "id": "fdeaf20e-d433-4e9e-8e8d-36bf1eff85c2",
   "metadata": {},
   "source": [
    "# 4.Use comparison operators to findout whether a given variable a is greater than 'b' or not. Take a = 34 and b = 80."
   ]
  },
  {
   "cell_type": "code",
   "execution_count": 14,
   "id": "081b51f9-4c45-4125-a6d5-f6ca8f247555",
   "metadata": {},
   "outputs": [
    {
     "data": {
      "text/plain": [
       "False"
      ]
     },
     "execution_count": 14,
     "metadata": {},
     "output_type": "execute_result"
    }
   ],
   "source": [
    "a = 34\n",
    "b = 80\n",
    "a > b"
   ]
  },
  {
   "cell_type": "markdown",
   "id": "0f989347-4ef8-44c2-ab39-d6466bd26810",
   "metadata": {},
   "source": [
    "# 5.Write a python program tp find average of two numbers entered by a user."
   ]
  },
  {
   "cell_type": "code",
   "execution_count": 17,
   "id": "826b5e0a-a841-415d-87d0-1d0a9451cd41",
   "metadata": {},
   "outputs": [
    {
     "name": "stdin",
     "output_type": "stream",
     "text": [
      "Enter the first number:  22\n",
      "Enter the second number:  200\n"
     ]
    },
    {
     "name": "stdout",
     "output_type": "stream",
     "text": [
      "The average of a and b is:  122.0\n"
     ]
    }
   ],
   "source": [
    "a = input(\"Enter the first number: \")\n",
    "b = input(\"Enter the second number: \")\n",
    "\n",
    "a = int(a)\n",
    "b = int(b)\n",
    "\n",
    "avg = a+b/2\n",
    "\n",
    "print(\"The average of a and b is: \",avg)"
   ]
  },
  {
   "cell_type": "markdown",
   "id": "27a95c4d-e278-43ab-85fb-ef0f2805060a",
   "metadata": {},
   "source": [
    "# 6.Write a python program to calculate square of a number entered by a user."
   ]
  },
  {
   "cell_type": "code",
   "execution_count": 20,
   "id": "1537b977-e0bd-4645-bf1c-76f77364362f",
   "metadata": {},
   "outputs": [
    {
     "name": "stdin",
     "output_type": "stream",
     "text": [
      "Enter the first number:  32\n"
     ]
    },
    {
     "name": "stdout",
     "output_type": "stream",
     "text": [
      "The square of the a is: 1024\n"
     ]
    }
   ],
   "source": [
    "a = input(\"Enter the first number: \")\n",
    "\n",
    "a = int(a)\n",
    "\n",
    "sq = a*a\n",
    "\n",
    "print(\"The square of the a is:\",sq)"
   ]
  },
  {
   "cell_type": "code",
   "execution_count": null,
   "id": "48b9b511-b788-4d48-ad23-817e0f1f850b",
   "metadata": {},
   "outputs": [],
   "source": []
  }
 ],
 "metadata": {
  "kernelspec": {
   "display_name": "Python 3 (ipykernel)",
   "language": "python",
   "name": "python3"
  },
  "language_info": {
   "codemirror_mode": {
    "name": "ipython",
    "version": 3
   },
   "file_extension": ".py",
   "mimetype": "text/x-python",
   "name": "python",
   "nbconvert_exporter": "python",
   "pygments_lexer": "ipython3",
   "version": "3.11.7"
  }
 },
 "nbformat": 4,
 "nbformat_minor": 5
}
